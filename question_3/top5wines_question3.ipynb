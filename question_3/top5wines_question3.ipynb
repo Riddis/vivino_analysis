{
 "cells": [
  {
   "cell_type": "code",
   "execution_count": 4,
   "metadata": {},
   "outputs": [],
   "source": [
    "import sqlite3\n",
    "connection = sqlite3.connect('./vivino.db')\n",
    "cursor = connection.cursor()"
   ]
  },
  {
   "cell_type": "markdown",
   "metadata": {},
   "source": [
    "in `most used grapes per country` i can see top 12 country(code) used grape id :2 and wine count:801751\n",
    "* these are list of country codes"
   ]
  },
  {
   "cell_type": "code",
   "execution_count": 2,
   "metadata": {},
   "outputs": [
    {
     "name": "stdout",
     "output_type": "stream",
     "text": [
      "{'grapes': 'Cabernet Sauvignon', 'grape_id': 2, 'country_code': 'hr'}\n",
      "{'grapes': 'Chardonnay', 'grape_id': 5, 'country_code': 'ar'}\n",
      "{'grapes': 'Pinot Noir', 'grape_id': 14, 'country_code': 'ch'}\n"
     ]
    }
   ],
   "source": [
    "query1 = \"\"\"SELECT grapes.name, grapes.id , most_used_grapes_per_country.country_code\n",
    "            FROM grapes \n",
    "            JOIN most_used_grapes_per_country ON grapes.id = most_used_grapes_per_country.grape_id       \n",
    "Group BY wines_count\n",
    "ORDER BY wines_count DESC\n",
    "LIMIT 3\"\"\"\n",
    "\n",
    "for x in cursor.execute(query1):\n",
    "        print({'grapes':x[0], 'grape_id':x[1], 'country_code': x[2]})"
   ]
  },
  {
   "cell_type": "code",
   "execution_count": 14,
   "metadata": {},
   "outputs": [],
   "source": [
    "'''q = \"DROP TABLE Cabernet_Sauvignon\"\n",
    "cursor.execute(q)\n",
    "connection.commit()'''"
   ]
  },
  {
   "cell_type": "code",
   "execution_count": 15,
   "metadata": {},
   "outputs": [
    {
     "data": {
      "text/plain": [
       "<sqlite3.Cursor at 0x1d7ad9ff490>"
      ]
     },
     "execution_count": 15,
     "metadata": {},
     "output_type": "execute_result"
    }
   ],
   "source": [
    "q = '''CREATE TABLE Cabernet_Sauvignon AS\n",
    "       SELECT wines.name, wines.ratings_average\n",
    "       FROM wines\n",
    "       WHERE name LIKE '%Cabernet Sauvignon%' '''\n",
    "cursor.execute(q)"
   ]
  },
  {
   "cell_type": "code",
   "execution_count": 5,
   "metadata": {},
   "outputs": [
    {
     "data": {
      "text/plain": [
       "<sqlite3.Cursor at 0x1d7ad9ff490>"
      ]
     },
     "execution_count": 5,
     "metadata": {},
     "output_type": "execute_result"
    }
   ],
   "source": [
    "q = '''CREATE TABLE Chardonnay AS\n",
    "       SELECT wines.name, wines.ratings_average\n",
    "       FROM wines\n",
    "       WHERE name LIKE '%Chardonnay%' '''\n",
    "cursor.execute(q)"
   ]
  },
  {
   "cell_type": "code",
   "execution_count": 6,
   "metadata": {},
   "outputs": [
    {
     "data": {
      "text/plain": [
       "<sqlite3.Cursor at 0x1d7ad9ff490>"
      ]
     },
     "execution_count": 6,
     "metadata": {},
     "output_type": "execute_result"
    }
   ],
   "source": [
    "q = '''CREATE TABLE Pinot_Noir AS\n",
    "       SELECT wines.name, wines.ratings_average\n",
    "       FROM wines\n",
    "       WHERE name LIKE '%Pinot Noir%' '''\n",
    "cursor.execute(q)"
   ]
  },
  {
   "cell_type": "code",
   "execution_count": 16,
   "metadata": {},
   "outputs": [],
   "source": [
    "connection.commit()"
   ]
  },
  {
   "cell_type": "code",
   "execution_count": 17,
   "metadata": {},
   "outputs": [
    {
     "data": {
      "text/plain": [
       "<sqlite3.Cursor at 0x1d7ad9ff490>"
      ]
     },
     "execution_count": 17,
     "metadata": {},
     "output_type": "execute_result"
    }
   ],
   "source": [
    "q = '''INSERT INTO Cabernet_Sauvignon\n",
    "       SELECT vintages.name, vintages.ratings_average\n",
    "       FROM vintages\n",
    "       WHERE name LIKE '%Cabernet Sauvignon%' '''\n",
    "cursor.execute(q)"
   ]
  },
  {
   "cell_type": "code",
   "execution_count": 11,
   "metadata": {},
   "outputs": [
    {
     "data": {
      "text/plain": [
       "<sqlite3.Cursor at 0x1d7ad9ff490>"
      ]
     },
     "execution_count": 11,
     "metadata": {},
     "output_type": "execute_result"
    }
   ],
   "source": [
    "q = '''INSERT INTO Chardonnay\n",
    "       SELECT vintages.name, vintages.ratings_average\n",
    "       FROM vintages\n",
    "       WHERE name LIKE '%Chardonnay%' '''\n",
    "cursor.execute(q)"
   ]
  },
  {
   "cell_type": "code",
   "execution_count": 12,
   "metadata": {},
   "outputs": [],
   "source": [
    "q = '''INSERT INTO Pinot_Noir\n",
    "       SELECT vintages.name, vintages.ratings_average\n",
    "       FROM vintages\n",
    "       WHERE name LIKE '%Pinot Noir%' '''\n",
    "cursor.execute(q)\n"
   ]
  },
  {
   "cell_type": "code",
   "execution_count": 18,
   "metadata": {},
   "outputs": [],
   "source": [
    "connection.commit()"
   ]
  },
  {
   "cell_type": "code",
   "execution_count": 24,
   "metadata": {},
   "outputs": [
    {
     "name": "stdout",
     "output_type": "stream",
     "text": [
      "top 5 wines from the grape 'Cabernet Sauvignon' :\n",
      "\n",
      "Cabernet Sauvignon\n",
      "Scarecrow Cabernet Sauvignon 2015\n",
      "Special Selection Cabernet Sauvignon\n",
      "Leonetti Cabernet Sauvignon 2006\n",
      "Caymus Special Selection Cabernet Sauvignon 2017\n"
     ]
    }
   ],
   "source": [
    "q = '''SELECT name \n",
    "       FROM Cabernet_Sauvignon\n",
    "       ORDER BY ratings_average DESC\n",
    "       LIMIT 5'''\n",
    "\n",
    "print(\"top 5 wines from the grape 'Cabernet Sauvignon' :\\n\")\n",
    "for x in cursor.execute(q):\n",
    "    print(x[0])"
   ]
  },
  {
   "cell_type": "code",
   "execution_count": 25,
   "metadata": {},
   "outputs": [
    {
     "name": "stdout",
     "output_type": "stream",
     "text": [
      "top 5 wines from the grape 'Chardonnay' :\n",
      "\n",
      "Chloe Chardonnay\n",
      "Reserve Chardonnay\n",
      "Bentrock Vineyard Chardonnay\n",
      "Capensis Chardonnay 2016\n",
      "Capensis Chardonnay 2017\n"
     ]
    }
   ],
   "source": [
    "q = '''SELECT name \n",
    "       FROM Chardonnay\n",
    "       ORDER BY ratings_average DESC\n",
    "       LIMIT 5'''\n",
    "\n",
    "print(\"top 5 wines from the grape 'Chardonnay' :\\n\")\n",
    "for x in cursor.execute(q):\n",
    "    print(x[0])"
   ]
  },
  {
   "cell_type": "code",
   "execution_count": 26,
   "metadata": {},
   "outputs": [
    {
     "name": "stdout",
     "output_type": "stream",
     "text": [
      "top 5 wines from the grape 'Pinot Noir' :\n",
      "\n",
      "Finn Pinot Noir\n",
      "Grace Vineyard Pinot Noir\n",
      "Mark Bradford Vineyard Pinot Noir\n",
      "Alpine Hillside Pinot Noir\n",
      "Chacra Treinta y Dos Pinot Noir 2019\n"
     ]
    }
   ],
   "source": [
    "q = '''SELECT name \n",
    "       FROM Pinot_Noir\n",
    "       ORDER BY ratings_average DESC\n",
    "       LIMIT 5'''\n",
    "\n",
    "print(\"top 5 wines from the grape 'Pinot Noir' :\\n\")\n",
    "for x in cursor.execute(q):\n",
    "    print(x[0])"
   ]
  }
 ],
 "metadata": {
  "kernelspec": {
   "display_name": ".venv",
   "language": "python",
   "name": "python3"
  },
  "language_info": {
   "codemirror_mode": {
    "name": "ipython",
    "version": 3
   },
   "file_extension": ".py",
   "mimetype": "text/x-python",
   "name": "python",
   "nbconvert_exporter": "python",
   "pygments_lexer": "ipython3",
   "version": "3.11.2"
  },
  "orig_nbformat": 4
 },
 "nbformat": 4,
 "nbformat_minor": 2
}
