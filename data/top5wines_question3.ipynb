{
 "cells": [
  {
   "cell_type": "code",
   "execution_count": 2,
   "metadata": {},
   "outputs": [],
   "source": [
    "import sqlite3\n",
    "connection = sqlite3.connect('../vivino.db')\n",
    "cursor = connection.cursor()"
   ]
  },
  {
   "cell_type": "markdown",
   "metadata": {},
   "source": [
    "in `most used grapes per country` i can see top 12 country(code) used grape id :2 and wine count:801751\n",
    "* these are list of country codes"
   ]
  },
  {
   "cell_type": "code",
   "execution_count": 3,
   "metadata": {},
   "outputs": [
    {
     "name": "stdout",
     "output_type": "stream",
     "text": [
      "{'grapes': 'Cabernet Sauvignon', 'grape_id': 2, 'country_code': 'hr'}\n",
      "{'grapes': 'Chardonnay', 'grape_id': 5, 'country_code': 'ar'}\n",
      "{'grapes': 'Pinot Noir', 'grape_id': 14, 'country_code': 'ch'}\n"
     ]
    }
   ],
   "source": [
    "query1 = \"\"\"SELECT grapes.name, grapes.id , most_used_grapes_per_country.country_code\n",
    "            FROM grapes \n",
    "            JOIN most_used_grapes_per_country ON grapes.id = most_used_grapes_per_country.grape_id       \n",
    "Group BY wines_count\n",
    "ORDER BY wines_count DESC\n",
    "LIMIT 3\"\"\"\n",
    "\n",
    "for x in cursor.execute(query1):\n",
    "        print({'grapes':x[0], 'grape_id':x[1], 'country_code': x[2]})"
   ]
  },
  {
   "cell_type": "code",
   "execution_count": 14,
   "metadata": {},
   "outputs": [],
   "source": [
    "'''q = \"DROP TABLE Cabernet_Sauvignon\"\n",
    "cursor.execute(q)\n",
    "connection.commit()'''"
   ]
  },
  {
   "cell_type": "code",
   "execution_count": 15,
   "metadata": {},
   "outputs": [
    {
     "data": {
      "text/plain": [
       "<sqlite3.Cursor at 0x1d7ad9ff490>"
      ]
     },
     "execution_count": 15,
     "metadata": {},
     "output_type": "execute_result"
    }
   ],
   "source": [
    "q = '''CREATE TABLE Cabernet_Sauvignon AS\n",
    "       SELECT wines.name, wines.ratings_average\n",
    "       FROM wines\n",
    "       WHERE name LIKE '%Cabernet Sauvignon%' '''\n",
    "cursor.execute(q)"
   ]
  },
  {
   "cell_type": "code",
   "execution_count": 5,
   "metadata": {},
   "outputs": [
    {
     "data": {
      "text/plain": [
       "<sqlite3.Cursor at 0x1d7ad9ff490>"
      ]
     },
     "execution_count": 5,
     "metadata": {},
     "output_type": "execute_result"
    }
   ],
   "source": [
    "q = '''CREATE TABLE Chardonnay AS\n",
    "       SELECT wines.name, wines.ratings_average\n",
    "       FROM wines\n",
    "       WHERE name LIKE '%Chardonnay%' '''\n",
    "cursor.execute(q)"
   ]
  },
  {
   "cell_type": "code",
   "execution_count": 6,
   "metadata": {},
   "outputs": [
    {
     "data": {
      "text/plain": [
       "<sqlite3.Cursor at 0x1d7ad9ff490>"
      ]
     },
     "execution_count": 6,
     "metadata": {},
     "output_type": "execute_result"
    }
   ],
   "source": [
    "q = '''CREATE TABLE Pinot_Noir AS\n",
    "       SELECT wines.name, wines.ratings_average\n",
    "       FROM wines\n",
    "       WHERE name LIKE '%Pinot Noir%' '''\n",
    "cursor.execute(q)"
   ]
  },
  {
   "cell_type": "code",
   "execution_count": 16,
   "metadata": {},
   "outputs": [],
   "source": [
    "connection.commit()"
   ]
  },
  {
   "cell_type": "code",
   "execution_count": 17,
   "metadata": {},
   "outputs": [
    {
     "data": {
      "text/plain": [
       "<sqlite3.Cursor at 0x1d7ad9ff490>"
      ]
     },
     "execution_count": 17,
     "metadata": {},
     "output_type": "execute_result"
    }
   ],
   "source": [
    "q = '''INSERT INTO Cabernet_Sauvignon\n",
    "       SELECT vintages.name, vintages.ratings_average\n",
    "       FROM vintages\n",
    "       WHERE name LIKE '%Cabernet Sauvignon%' '''\n",
    "cursor.execute(q)"
   ]
  },
  {
   "cell_type": "code",
   "execution_count": 11,
   "metadata": {},
   "outputs": [
    {
     "data": {
      "text/plain": [
       "<sqlite3.Cursor at 0x1d7ad9ff490>"
      ]
     },
     "execution_count": 11,
     "metadata": {},
     "output_type": "execute_result"
    }
   ],
   "source": [
    "q = '''INSERT INTO Chardonnay\n",
    "       SELECT vintages.name, vintages.ratings_average\n",
    "       FROM vintages\n",
    "       WHERE name LIKE '%Chardonnay%' '''\n",
    "cursor.execute(q)"
   ]
  },
  {
   "cell_type": "code",
   "execution_count": 12,
   "metadata": {},
   "outputs": [],
   "source": [
    "q = '''INSERT INTO Pinot_Noir\n",
    "       SELECT vintages.name, vintages.ratings_average\n",
    "       FROM vintages\n",
    "       WHERE name LIKE '%Pinot Noir%' '''\n",
    "cursor.execute(q)\n"
   ]
  },
  {
   "cell_type": "code",
   "execution_count": 18,
   "metadata": {},
   "outputs": [],
   "source": [
    "connection.commit()"
   ]
  },
  {
   "cell_type": "code",
   "execution_count": 24,
   "metadata": {},
   "outputs": [
    {
     "name": "stdout",
     "output_type": "stream",
     "text": [
      "top 5 wines from the grape 'Cabernet Sauvignon' :\n",
      "\n",
      "Cabernet Sauvignon\n",
      "Scarecrow Cabernet Sauvignon 2015\n",
      "Special Selection Cabernet Sauvignon\n",
      "Leonetti Cabernet Sauvignon 2006\n",
      "Caymus Special Selection Cabernet Sauvignon 2017\n"
     ]
    }
   ],
   "source": [
    "q = '''SELECT name \n",
    "       FROM Cabernet_Sauvignon\n",
    "       ORDER BY ratings_average DESC\n",
    "       LIMIT 5'''\n",
    "\n",
    "print(\"top 5 wines from the grape 'Cabernet Sauvignon' :\\n\")\n",
    "for x in cursor.execute(q):\n",
    "    print(x[0])"
   ]
  },
  {
   "cell_type": "code",
   "execution_count": 25,
   "metadata": {},
   "outputs": [
    {
     "name": "stdout",
     "output_type": "stream",
     "text": [
      "top 5 wines from the grape 'Chardonnay' :\n",
      "\n",
      "Chloe Chardonnay\n",
      "Reserve Chardonnay\n",
      "Bentrock Vineyard Chardonnay\n",
      "Capensis Chardonnay 2016\n",
      "Capensis Chardonnay 2017\n"
     ]
    }
   ],
   "source": [
    "q = '''SELECT name \n",
    "       FROM Chardonnay\n",
    "       ORDER BY ratings_average DESC\n",
    "       LIMIT 5'''\n",
    "\n",
    "print(\"top 5 wines from the grape 'Chardonnay' :\\n\")\n",
    "for x in cursor.execute(q):\n",
    "    print(x[0])"
   ]
  },
  {
   "cell_type": "code",
   "execution_count": 26,
   "metadata": {},
   "outputs": [
    {
     "name": "stdout",
     "output_type": "stream",
     "text": [
      "top 5 wines from the grape 'Pinot Noir' :\n",
      "\n",
      "Finn Pinot Noir\n",
      "Grace Vineyard Pinot Noir\n",
      "Mark Bradford Vineyard Pinot Noir\n",
      "Alpine Hillside Pinot Noir\n",
      "Chacra Treinta y Dos Pinot Noir 2019\n"
     ]
    }
   ],
   "source": [
    "q = '''SELECT name \n",
    "       FROM Pinot_Noir\n",
    "       ORDER BY ratings_average DESC\n",
    "       LIMIT 5'''\n",
    "\n",
    "print(\"top 5 wines from the grape 'Pinot Noir' :\\n\")\n",
    "for x in cursor.execute(q):\n",
    "    print(x[0])"
   ]
  },
  {
   "cell_type": "code",
   "execution_count": 3,
   "metadata": {},
   "outputs": [
    {
     "data": {
      "text/html": [
       "<div>\n",
       "<style scoped>\n",
       "    .dataframe tbody tr th:only-of-type {\n",
       "        vertical-align: middle;\n",
       "    }\n",
       "\n",
       "    .dataframe tbody tr th {\n",
       "        vertical-align: top;\n",
       "    }\n",
       "\n",
       "    .dataframe thead th {\n",
       "        text-align: right;\n",
       "    }\n",
       "</style>\n",
       "<table border=\"1\" class=\"dataframe\">\n",
       "  <thead>\n",
       "    <tr style=\"text-align: right;\">\n",
       "      <th></th>\n",
       "      <th>Wine Name</th>\n",
       "      <th>Ratings Average</th>\n",
       "      <th>Grape</th>\n",
       "    </tr>\n",
       "  </thead>\n",
       "  <tbody>\n",
       "    <tr>\n",
       "      <th>0</th>\n",
       "      <td>Cabernet Sauvignon</td>\n",
       "      <td>4.8</td>\n",
       "      <td>Cabernet Sauvignon</td>\n",
       "    </tr>\n",
       "    <tr>\n",
       "      <th>1</th>\n",
       "      <td>Scarecrow Cabernet Sauvignon 2015</td>\n",
       "      <td>4.8</td>\n",
       "      <td>Cabernet Sauvignon</td>\n",
       "    </tr>\n",
       "    <tr>\n",
       "      <th>2</th>\n",
       "      <td>Special Selection Cabernet Sauvignon</td>\n",
       "      <td>4.7</td>\n",
       "      <td>Cabernet Sauvignon</td>\n",
       "    </tr>\n",
       "    <tr>\n",
       "      <th>3</th>\n",
       "      <td>Leonetti Cabernet Sauvignon 2006</td>\n",
       "      <td>4.7</td>\n",
       "      <td>Cabernet Sauvignon</td>\n",
       "    </tr>\n",
       "    <tr>\n",
       "      <th>4</th>\n",
       "      <td>Caymus Special Selection Cabernet Sauvignon 2017</td>\n",
       "      <td>4.7</td>\n",
       "      <td>Cabernet Sauvignon</td>\n",
       "    </tr>\n",
       "    <tr>\n",
       "      <th>5</th>\n",
       "      <td>Chloe Chardonnay</td>\n",
       "      <td>4.5</td>\n",
       "      <td>Chardonnay</td>\n",
       "    </tr>\n",
       "    <tr>\n",
       "      <th>6</th>\n",
       "      <td>Reserve Chardonnay</td>\n",
       "      <td>4.5</td>\n",
       "      <td>Chardonnay</td>\n",
       "    </tr>\n",
       "    <tr>\n",
       "      <th>7</th>\n",
       "      <td>Bentrock Vineyard Chardonnay</td>\n",
       "      <td>4.5</td>\n",
       "      <td>Chardonnay</td>\n",
       "    </tr>\n",
       "    <tr>\n",
       "      <th>8</th>\n",
       "      <td>Capensis Chardonnay 2016</td>\n",
       "      <td>4.5</td>\n",
       "      <td>Chardonnay</td>\n",
       "    </tr>\n",
       "    <tr>\n",
       "      <th>9</th>\n",
       "      <td>Capensis Chardonnay 2017</td>\n",
       "      <td>4.5</td>\n",
       "      <td>Chardonnay</td>\n",
       "    </tr>\n",
       "    <tr>\n",
       "      <th>10</th>\n",
       "      <td>Finn Pinot Noir</td>\n",
       "      <td>4.5</td>\n",
       "      <td>Pinot Noir</td>\n",
       "    </tr>\n",
       "    <tr>\n",
       "      <th>11</th>\n",
       "      <td>Grace Vineyard Pinot Noir</td>\n",
       "      <td>4.5</td>\n",
       "      <td>Pinot Noir</td>\n",
       "    </tr>\n",
       "    <tr>\n",
       "      <th>12</th>\n",
       "      <td>Mark Bradford Vineyard Pinot Noir</td>\n",
       "      <td>4.5</td>\n",
       "      <td>Pinot Noir</td>\n",
       "    </tr>\n",
       "    <tr>\n",
       "      <th>13</th>\n",
       "      <td>Alpine Hillside Pinot Noir</td>\n",
       "      <td>4.5</td>\n",
       "      <td>Pinot Noir</td>\n",
       "    </tr>\n",
       "    <tr>\n",
       "      <th>14</th>\n",
       "      <td>Chacra Treinta y Dos Pinot Noir 2019</td>\n",
       "      <td>4.5</td>\n",
       "      <td>Pinot Noir</td>\n",
       "    </tr>\n",
       "  </tbody>\n",
       "</table>\n",
       "</div>"
      ],
      "text/plain": [
       "                                           Wine Name  Ratings Average  \\\n",
       "0                                 Cabernet Sauvignon              4.8   \n",
       "1                  Scarecrow Cabernet Sauvignon 2015              4.8   \n",
       "2               Special Selection Cabernet Sauvignon              4.7   \n",
       "3                   Leonetti Cabernet Sauvignon 2006              4.7   \n",
       "4   Caymus Special Selection Cabernet Sauvignon 2017              4.7   \n",
       "5                                   Chloe Chardonnay              4.5   \n",
       "6                                 Reserve Chardonnay              4.5   \n",
       "7                       Bentrock Vineyard Chardonnay              4.5   \n",
       "8                           Capensis Chardonnay 2016              4.5   \n",
       "9                           Capensis Chardonnay 2017              4.5   \n",
       "10                                   Finn Pinot Noir              4.5   \n",
       "11                         Grace Vineyard Pinot Noir              4.5   \n",
       "12                 Mark Bradford Vineyard Pinot Noir              4.5   \n",
       "13                        Alpine Hillside Pinot Noir              4.5   \n",
       "14              Chacra Treinta y Dos Pinot Noir 2019              4.5   \n",
       "\n",
       "                 Grape  \n",
       "0   Cabernet Sauvignon  \n",
       "1   Cabernet Sauvignon  \n",
       "2   Cabernet Sauvignon  \n",
       "3   Cabernet Sauvignon  \n",
       "4   Cabernet Sauvignon  \n",
       "5           Chardonnay  \n",
       "6           Chardonnay  \n",
       "7           Chardonnay  \n",
       "8           Chardonnay  \n",
       "9           Chardonnay  \n",
       "10          Pinot Noir  \n",
       "11          Pinot Noir  \n",
       "12          Pinot Noir  \n",
       "13          Pinot Noir  \n",
       "14          Pinot Noir  "
      ]
     },
     "execution_count": 3,
     "metadata": {},
     "output_type": "execute_result"
    }
   ],
   "source": [
    "import pandas as pd\n",
    "q1 = '''SELECT name , ratings_average\n",
    "       FROM Cabernet_Sauvignon\n",
    "       ORDER BY ratings_average DESC\n",
    "       LIMIT 5'''\n",
    "q2 = '''SELECT name , ratings_average\n",
    "       FROM Chardonnay\n",
    "       ORDER BY ratings_average DESC\n",
    "       LIMIT 5'''\n",
    "q3 = '''SELECT name , ratings_average\n",
    "       FROM Pinot_Noir\n",
    "       ORDER BY ratings_average DESC\n",
    "       LIMIT 5'''\n",
    "\n",
    "queries = [q1, q2, q3]\n",
    "grape_names = ['Cabernet Sauvignon', 'Chardonnay', 'Pinot Noir']\n",
    "\n",
    "dataframes = []\n",
    "\n",
    "for i, query in enumerate(queries):\n",
    "    results = cursor.execute(query).fetchall()\n",
    "    df = pd.DataFrame(results, columns=['Wine Name', 'Ratings Average'])\n",
    "    df['Grape'] = grape_names[i]\n",
    "    dataframes.append(df)\n",
    "\n",
    "# Combine the DataFrames into a single DataFrame\n",
    "combined_df = pd.concat(dataframes, ignore_index=True)\n",
    "\n",
    "combined_df\n"
   ]
  },
  {
   "cell_type": "code",
   "execution_count": 4,
   "metadata": {},
   "outputs": [
    {
     "data": {
      "image/png": "[encoded data removed]",
      "text/plain": [
       "<Figure size 640x480 with 1 Axes>"
      ]
     },
     "metadata": {},
     "output_type": "display_data"
    }
   ],
   "source": [
    "import matplotlib.pyplot as plt\n",
    "import seaborn as sns\n",
    "\n",
    "sns.barplot(data=combined_df, x='Wine Name', y='Ratings Average', hue='Grape')\n",
    "plt.xlabel('Wine Name')\n",
    "plt.ylabel('Ratings Average')\n",
    "plt.title('Top Rated Wines by Grape')\n",
    "#plt.ylim(4, 5)\n",
    "plt.xticks(rotation=90)\n",
    "plt.show()"
   ]
  },
  {
   "cell_type": "code",
   "execution_count": 5,
   "metadata": {},
   "outputs": [],
   "source": [
    "# closing database\n",
    "cursor.close()\n",
    "connection.close()"
   ]
  }
 ],
 "metadata": {
  "kernelspec": {
   "display_name": ".venv",
   "language": "python",
   "name": "python3"
  },
  "language_info": {
   "codemirror_mode": {
    "name": "ipython",
    "version": 3
   },
   "file_extension": ".py",
   "mimetype": "text/x-python",
   "name": "python",
   "nbconvert_exporter": "python",
   "pygments_lexer": "ipython3",
   "version": "3.7.3"
  },
  "orig_nbformat": 4
 },
 "nbformat": 4,
 "nbformat_minor": 2
}
