{
 "cells": [
  {
   "cell_type": "code",
   "execution_count": 3,
   "metadata": {},
   "outputs": [],
   "source": [
    "import sqlite3\n",
    "connection = sqlite3.connect('./vivino.db')\n",
    "cursor = connection.cursor()"
   ]
  },
  {
   "cell_type": "code",
   "execution_count": 7,
   "metadata": {},
   "outputs": [
    {
     "data": {
      "text/plain": [
       "[('Cabernet Sauvignon', 12273684),\n",
       " ('Cabernet Sauvignon', 4270717),\n",
       " ('Special Selection Cabernet Sauvignon', 12273684)]"
      ]
     },
     "execution_count": 7,
     "metadata": {},
     "output_type": "execute_result"
    }
   ],
   "source": [
    "query = '''\n",
    "        SELECT distinct wines.name , countries.users_count\n",
    "        From wines\n",
    "        join regions ON wines.region_id = regions.id\n",
    "        join countries ON regions.country_code = countries.code\n",
    "        WHERE wines.name IN \n",
    "         'Cabernet Sauvignon',\n",
    "        'Scarecrow Cabernet Sauvignon 2015',\n",
    "        'Special Selection Cabernet Sauvignon',\n",
    "        'Leonetti Cabernet Sauvignon 2006',\n",
    "        'Caymus Special Selection Cabernet Sauvignon 2017'\n",
    "    ) '''\n",
    "\n",
    "cursor.execute(query)\n",
    "cursor.fetchall()"
   ]
  }
 ],
 "metadata": {
  "kernelspec": {
   "display_name": ".venv",
   "language": "python",
   "name": "python3"
  },
  "language_info": {
   "codemirror_mode": {
    "name": "ipython",
    "version": 3
   },
   "file_extension": ".py",
   "mimetype": "text/x-python",
   "name": "python",
   "nbconvert_exporter": "python",
   "pygments_lexer": "ipython3",
   "version": "3.7.3"
  },
  "orig_nbformat": 4
 },
 "nbformat": 4,
 "nbformat_minor": 2
}
