{
 "cells": [
  {
   "cell_type": "code",
   "execution_count": 117,
   "metadata": {},
   "outputs": [],
   "source": [
    "import sqlite3\n",
    "connection = sqlite3.connect('./vivino.db')\n",
    "cursor = connection.cursor()"
   ]
  },
  {
   "cell_type": "markdown",
   "metadata": {},
   "source": [
    "in `most used grapes per country` i can see top 12 country(code) used grape id :2 and wine count:801751\n",
    "* these are list of country codes"
   ]
  },
  {
   "cell_type": "code",
   "execution_count": 118,
   "metadata": {},
   "outputs": [
    {
     "name": "stdout",
     "output_type": "stream",
     "text": [
      "{'grapes': 'Cabernet Sauvignon', 'grape_id': 2, 'country_code': 'hr'}\n",
      "{'grapes': 'Chardonnay', 'grape_id': 5, 'country_code': 'ar'}\n",
      "{'grapes': 'Pinot Noir', 'grape_id': 14, 'country_code': 'ch'}\n"
     ]
    }
   ],
   "source": [
    "query1 = \"\"\"SELECT grapes.name, grapes.id , most_used_grapes_per_country.country_code\n",
    "            FROM grapes \n",
    "            JOIN most_used_grapes_per_country ON grapes.id = most_used_grapes_per_country.grape_id       \n",
    "Group BY wines_count\n",
    "ORDER BY wines_count DESC\n",
    "LIMIT 3\"\"\"\n",
    "\n",
    "for x in cursor.execute(query1):\n",
    "        print({'grapes':x[0], 'grape_id':x[1], 'country_code': x[2]})"
   ]
  },
  {
   "cell_type": "code",
   "execution_count": 151,
   "metadata": {},
   "outputs": [
    {
     "name": "stdout",
     "output_type": "stream",
     "text": [
      "[('Cabernet Sauvignon (Signature)', 4.6), ('Chateau Buena Vista Cabernet Sauvignon Napa Valley', 4.3), ('Cabernet Sauvignon', 4.4), ('Cabernet Sauvignon', 4.4), ('Cabernet Sauvignon', 4.6), ('Special Selection Cabernet Sauvignon', 4.7), ('Beckstoffer To Kalon Vineyard Cabernet Sauvignon', 4.6), ('Cabernet Sauvignon Coeur De Vallée', 4.6), ('Cabernet Sauvignon', 4.5), ('FAY Cabernet Sauvignon', 4.5), ('ARTEMIS Cabernet Sauvignon', 4.4), ('S.L.V. Cabernet Sauvignon', 4.5), ('Alexander Valley Cabernet Sauvignon', 4.4), ('One Point Five Cabernet Sauvignon', 4.5), ('Georges De Latour Private Reserve Cabernet Sauvignon', 4.4), ('Cabernet Sauvignon', 4.4), ('Cabernet Sauvignon', 4.6), ('Domus Aurea Cabernet Sauvignon', 4.4), ('Rapture Cabernet Sauvignon', 4.3), ('Blueline Estate Cabernet Sauvignon', 4.5), ('Cabernet Sauvignon', 4.8), ('Howell Mountain Cabernet Sauvignon', 4.5), ('CASK 23 Cabernet Sauvignon', 4.6), ('Cabernet Sauvignon', 4.6), ('Au Paradis Cabernet Sauvignon', 4.6), ('Rutherford Cabernet Sauvignon', 4.3), ('Altagracia Cabernet Sauvignon', 4.4), ('Freienfeld Cabernet Sauvignon Riserva', 4.4), ('Lithology Cabernet Sauvignon', 4.6)]\n",
      "[('Chardonnay', 4.3), ('Chloe Chardonnay', 4.5), ('Chardonnay', 4.4), ('Chardonnay', 4.4), ('One Sixteen Chardonnay', 4.4), ('Reserve Chardonnay', 4.5), ('Hyde Vineyard Chardonnay', 4.4), ('Bentrock Vineyard Chardonnay', 4.5)]\n",
      "[('Finn Pinot Noir', 4.5), ('Treinta y Dos Pinot Noir', 4.4), ('Grace Vineyard Pinot Noir', 4.5), ('Evenstad Reserve Pinot Noir', 4.4), ('Mark Bradford Vineyard Pinot Noir', 4.5), ('Castellberg Pinot Noir', 4.4), ('Fort Ross Seaview Home Field Pinot Noir', 4.4), ('Royal St Robert Cuvée Pinot Noir', 4.3), ('Alpine Hillside Pinot Noir', 4.5), ('Belles Soeurs Cuvée Pinot Noir', 4.4)]\n"
     ]
    }
   ],
   "source": [
    "q = '''SELECT wines.name, wines.ratings_average\n",
    "       FROM wines\n",
    "       WHERE name LIKE '%Cabernet Sauvignon%' OR name LIKE '%Chardonnay%' OR name LIKE '%Pinot Noir%' '''\n",
    "cursor.execute(q)\n",
    "wine_results = cursor.fetchall()\n",
    "wine_results\n",
    "\n",
    "Cabernet_Sauvignon = []\n",
    "Chardonnay = []\n",
    "Pinot_Noir = []\n",
    "\n",
    "for row in wine_results:\n",
    "       if 'Cabernet Sauvignon' in row[0]:\n",
    "              Cabernet_Sauvignon.append(row)\n",
    "       if 'Chardonnay' in row[0]:\n",
    "              Chardonnay.append(row)\n",
    "       if 'Pinot Noir' in row[0]:\n",
    "              Pinot_Noir.append(row)  \n",
    "print(Cabernet_Sauvignon)     \n",
    "print(Chardonnay)\n",
    "print(Pinot_Noir)"
   ]
  },
  {
   "cell_type": "code",
   "execution_count": 152,
   "metadata": {},
   "outputs": [
    {
     "name": "stdout",
     "output_type": "stream",
     "text": [
      "[('Cabernet Sauvignon (Signature)', 4.6), ('Chateau Buena Vista Cabernet Sauvignon Napa Valley', 4.3), ('Cabernet Sauvignon', 4.4), ('Cabernet Sauvignon', 4.4), ('Cabernet Sauvignon', 4.6), ('Special Selection Cabernet Sauvignon', 4.7), ('Beckstoffer To Kalon Vineyard Cabernet Sauvignon', 4.6), ('Cabernet Sauvignon Coeur De Vallée', 4.6), ('Cabernet Sauvignon', 4.5), ('FAY Cabernet Sauvignon', 4.5), ('ARTEMIS Cabernet Sauvignon', 4.4), ('S.L.V. Cabernet Sauvignon', 4.5), ('Alexander Valley Cabernet Sauvignon', 4.4), ('One Point Five Cabernet Sauvignon', 4.5), ('Georges De Latour Private Reserve Cabernet Sauvignon', 4.4), ('Cabernet Sauvignon', 4.4), ('Cabernet Sauvignon', 4.6), ('Domus Aurea Cabernet Sauvignon', 4.4), ('Rapture Cabernet Sauvignon', 4.3), ('Blueline Estate Cabernet Sauvignon', 4.5), ('Cabernet Sauvignon', 4.8), ('Howell Mountain Cabernet Sauvignon', 4.5), ('CASK 23 Cabernet Sauvignon', 4.6), ('Cabernet Sauvignon', 4.6), ('Au Paradis Cabernet Sauvignon', 4.6), ('Rutherford Cabernet Sauvignon', 4.3), ('Altagracia Cabernet Sauvignon', 4.4), ('Freienfeld Cabernet Sauvignon Riserva', 4.4), ('Lithology Cabernet Sauvignon', 4.6), ('Caymus Special Selection Cabernet Sauvignon 1997', 4.6), ('Leonetti Cabernet Sauvignon 2006', 4.7), ('Paul Hobbs Beckstoffer To Kalon Vineyard Cabernet Sauvignon 2005', 4.5), ('Leonetti Cabernet Sauvignon 2008', 4.6), ('Leonetti Cabernet Sauvignon 2004', 4.6), ('Leonetti Cabernet Sauvignon 2009', 4.5), ('Leonetti Cabernet Sauvignon 2001', 0.0), ('Leonetti Cabernet Sauvignon 2003', 4.6), ('Quebrada de Macul Domus Aurea Cabernet Sauvignon 2013', 4.4), ('Scarecrow Cabernet Sauvignon 2015', 4.8), ('Eisele Vineyard Altagracia Cabernet Sauvignon 2012', 4.4), ('Silver Oak Alexander Valley Cabernet Sauvignon 2017', 4.5), ('Caymus Special Selection Cabernet Sauvignon 2017', 4.7), ('Dunn Howell Mountain Cabernet Sauvignon 2017', 4.6), ('Michael David Winery Rapture Cabernet Sauvignon 2017', 4.4), ('Duckhorn Rutherford Cabernet Sauvignon 2017', 4.6), ('Beaulieu Vineyard (BV) Georges De Latour Private Reserve Cabernet Sauvignon 2018', 4.4), ('Darioush Cabernet Sauvignon (Signature) 2018', 4.6), (\"Stag's Leap Wine Cellars CASK 23 Cabernet Sauvignon 2018\", 4.6), ('Joseph Phelps Vineyards Cabernet Sauvignon 2018', 4.4), (\"Stag's Leap Wine Cellars S.L.V. Cabernet Sauvignon 2018\", 4.6), ('Buena Vista Chateau Buena Vista Cabernet Sauvignon Napa Valley 2018', 4.4), (\"Stag's Leap Wine Cellars FAY Cabernet Sauvignon 2018\", 4.5), ('Forman Cabernet Sauvignon 2018', 4.5), ('Peter Michael Au Paradis Cabernet Sauvignon 2018', 4.5), ('Quilceda Creek Cabernet Sauvignon 2018', 4.6), ('Caymus Cabernet Sauvignon 2019', 4.6), ('Shafer One Point Five Cabernet Sauvignon 2019', 4.5), ('Joseph Phelps Vineyards Cabernet Sauvignon 2019', 4.5), ('Beaulieu Vineyard (BV) Georges De Latour Private Reserve Cabernet Sauvignon 2019', 4.6), ('Lillian Cabernet Sauvignon 2016', 0.0), ('Forman Cabernet Sauvignon 2019', 0.0), ('Hourglass Blueline Estate Cabernet Sauvignon 2019', 4.5), ('Marion Cabernet Sauvignon 2019', 0.0), (\"Stag's Leap Wine Cellars ARTEMIS Cabernet Sauvignon 2020\", 4.5), ('Alejandro Bulgheroni Lithology Cabernet Sauvignon 2019', 4.5), ('Morlet Family Vineyards Cabernet Sauvignon Coeur De Vallée 2019', 0.0), ('Cantina Kurtatsch Freienfeld Cabernet Sauvignon Riserva 2000', 0.0)]\n",
      "[('Chardonnay', 4.3), ('Chloe Chardonnay', 4.5), ('Chardonnay', 4.4), ('Chardonnay', 4.4), ('One Sixteen Chardonnay', 4.4), ('Reserve Chardonnay', 4.5), ('Hyde Vineyard Chardonnay', 4.4), ('Bentrock Vineyard Chardonnay', 4.5), ('Capensis Chardonnay 2015', 4.4), ('Capensis Chardonnay 2016', 4.5), ('Capensis Chardonnay 2017', 4.5), ('Chateau Montelena Chardonnay 2019', 4.4), ('Kosta Browne One Sixteen Chardonnay 2019', 4.5), ('Cloudburst Chardonnay 2020', 0.0), ('Racines Bentrock Vineyard Chardonnay 2019', 0.0), ('Lismore Reserve Chardonnay 2021', 0.0), ('DuMOL Chloe Chardonnay 2020', 0.0), ('DuMOL Hyde Vineyard Chardonnay 2020', 0.0)]\n",
      "[('Finn Pinot Noir', 4.5), ('Treinta y Dos Pinot Noir', 4.4), ('Grace Vineyard Pinot Noir', 4.5), ('Evenstad Reserve Pinot Noir', 4.4), ('Mark Bradford Vineyard Pinot Noir', 4.5), ('Castellberg Pinot Noir', 4.4), ('Fort Ross Seaview Home Field Pinot Noir', 4.4), ('Royal St Robert Cuvée Pinot Noir', 4.3), ('Alpine Hillside Pinot Noir', 4.5), ('Belles Soeurs Cuvée Pinot Noir', 4.4), ('Domaine Serene Evenstad Reserve Pinot Noir 2018', 4.4), ('Domaine Serene Grace Vineyard Pinot Noir 2018', 0.0), ('Domaine Serene Mark Bradford Vineyard Pinot Noir 2018', 0.0), ('Chacra Treinta y Dos Pinot Noir 2019', 4.5), ('Raen Royal St Robert Cuvée Pinot Noir 2019', 4.4), ('DuMOL Finn Pinot Noir 2019', 0.0), ('Raen Fort Ross Seaview Home Field Pinot Noir 2019', 0.0), ('Beaux Frères Belles Soeurs Cuvée Pinot Noir 2019', 4.5), ('Martin Waßmer Castellberg Pinot Noir 2019', 0.0), ('Rhys Vineyards Alpine Hillside Pinot Noir 2019', 0.0), ('DuMOL Finn Pinot Noir 2020', 0.0), ('Martin Waßmer Castellberg Pinot Noir 2020', 0.0)]\n"
     ]
    }
   ],
   "source": [
    "q = '''SELECT vintages.name, vintages.ratings_average\n",
    "       FROM vintages\n",
    "       WHERE name LIKE '%Cabernet Sauvignon%' OR name LIKE '%Chardonnay%' OR name LIKE '%Pinot Noir%' '''\n",
    "cursor.execute(q)\n",
    "wine_results = cursor.fetchall()\n",
    "\n",
    "for row in wine_results:\n",
    "       if 'Cabernet Sauvignon' in row[0]:\n",
    "              Cabernet_Sauvignon.append(row)\n",
    "       if 'Chardonnay' in row[0]:\n",
    "              Chardonnay.append(row)\n",
    "       if 'Pinot Noir' in row[0]:\n",
    "              Pinot_Noir.append(row)  \n",
    "print(Cabernet_Sauvignon)     \n",
    "print(Chardonnay)\n",
    "print(Pinot_Noir)"
   ]
  },
  {
   "cell_type": "code",
   "execution_count": null,
   "metadata": {},
   "outputs": [],
   "source": []
  },
  {
   "cell_type": "code",
   "execution_count": 131,
   "metadata": {},
   "outputs": [
    {
     "data": {
      "text/plain": [
       "[('Nicolás Catena Zapata', 4.4, 1868),\n",
       " ('Malbec Argentino', 4.4, 1869),\n",
       " ('Malbec', 4.2, 16504),\n",
       " ('Bramare Marchiori Vineyard Malbec', 4.5, 43944),\n",
       " ('Cabernet - Cabernet', 4.3, 68884),\n",
       " ('Finca Bella Vista Malbec', 4.5, 77558),\n",
       " ('Gran Corte (VII)', 4.4, 1153455),\n",
       " ('Gran Malbec (X)', 4.3, 1153456),\n",
       " ('Treinta y Dos Pinot Noir', 4.4, 1157825),\n",
       " ('Finca Altamira Malbec', 4.5, 1176258),\n",
       " ('Lindaflor Blend', 4.3, 1226803),\n",
       " ('Gran Enemigo', 4.5, 1235058),\n",
       " ('Bramare Malbec Uco Valley', 4.4, 1247692),\n",
       " ('Mai The First A.Montes Malbec', 4.4, 1258443),\n",
       " (\"Sous L'Escalier Petite Arvine du Valais\", 4.4, 1480077),\n",
       " ('Nosotros Single Vineyard Nómade', 4.6, 1724358),\n",
       " ('Platinum', 4.3, 1784680),\n",
       " ('Mendoza', 4.4, 1926899),\n",
       " ('Gran VU Blend', 4.5, 4281963),\n",
       " ('Altura Máxima Malbec', 4.4, 4399908),\n",
       " ('Adrianna Vineyard Fortuna Terrae Malbec', 4.5, 5007190),\n",
       " ('Adrianna Vineyard Mundus Bacillus Terrae Malbec', 4.6, 5107190),\n",
       " ('Kalós Cru Gran Reserva Malbec', 4.5, 5532640),\n",
       " (\"Winemaker's Selection\", 4.3, 6096906),\n",
       " ('Old Vines Malbec', 4.2, 8114798),\n",
       " ('Los Jabalíes Single Vineyard Malbec', 4.4, 8402786)]"
      ]
     },
     "execution_count": 131,
     "metadata": {},
     "output_type": "execute_result"
    }
   ],
   "source": [
    "query11 = '''SELECT DISTINCT wines.name, wines.ratings_average, wines.id\n",
    "             FROM wines\n",
    "             JOIN regions ON wines.region_id = regions.id\n",
    "             JOIN most_used_grapes_per_country ON regions.country_code = most_used_grapes_per_country.country_code\n",
    "             WHERE most_used_grapes_per_country.country_code='hr' OR most_used_grapes_per_country.country_code='ar' OR most_used_grapes_per_country.country_code='ch'\n",
    "\n",
    "             '''\n",
    "cursor.execute(query11)\n",
    "wine_and_average = cursor.fetchall()\n",
    "wine_and_average"
   ]
  },
  {
   "cell_type": "code",
   "execution_count": 133,
   "metadata": {},
   "outputs": [
    {
     "data": {
      "text/plain": [
       "[('Guido Brivio Platinum 2011', 4.4),\n",
       " ('Achaval-Ferrer Finca Bella Vista Malbec 2014', 4.4),\n",
       " ('Achaval-Ferrer Finca Bella Vista Malbec 2015', 4.6),\n",
       " ('Monteviejo Lindaflor Blend 2015', 4.5),\n",
       " ('Achaval-Ferrer Finca Altamira Malbec 2015', 4.6),\n",
       " ('Salentein Gran VU Blend 2015', 4.4),\n",
       " ('Catena Zapata Adrianna Vineyard Mundus Bacillus Terrae Malbec 2016', 4.5),\n",
       " ('Catena Zapata Adrianna Vineyard Mundus Bacillus Terrae Malbec 2014', 4.6),\n",
       " ('Catena Zapata Adrianna Vineyard Mundus Bacillus Terrae Malbec 2015', 4.6),\n",
       " ('Colomé Altura Máxima Malbec 2017', 4.5),\n",
       " ('Cheval des Andes Mendoza 2018', 4.5),\n",
       " ('Kaiken Mai The First A.Montes Malbec 2018', 4.4),\n",
       " ('El Enemigo Gran Enemigo 2018', 4.5),\n",
       " ('Viña Cobos Bramare Marchiori Vineyard Malbec 2018', 0.0),\n",
       " (\"Korta Katarina Winemaker's Selection 2011\", 4.4),\n",
       " ('D.V. Catena Cabernet - Cabernet 2018', 4.4),\n",
       " ('Rutini Malbec 2019', 4.4),\n",
       " ('Susana Balbo Nosotros Single Vineyard Nómade 2019', 4.5),\n",
       " ('Chacra Treinta y Dos Pinot Noir 2019', 4.5),\n",
       " ('Cheval des Andes Mendoza 2019', 4.4),\n",
       " ('Catena Zapata Nicolás Catena Zapata 2019', 4.5),\n",
       " ('D.V. Catena Cabernet - Cabernet 2019', 4.4),\n",
       " ('Viña Cobos Bramare Malbec Uco Valley 2019', 4.5),\n",
       " ('Pulenta Estate Gran Corte (VII) 2019', 4.5),\n",
       " ('Pulenta Estate Gran Malbec (X) 2019', 4.4),\n",
       " ('Catena Zapata Adrianna Vineyard Fortuna Terrae Malbec 2019', 4.6),\n",
       " ('Catena Zapata Malbec Argentino 2020', 4.5),\n",
       " ('Salentein Los Jabalíes Single Vineyard Malbec 2017', 4.5),\n",
       " ('Matías Riccitelli Old Vines Malbec 2018', 4.4),\n",
       " ('Kalós Wines Kalós Cru Gran Reserva Malbec 2018', 4.4),\n",
       " (\"Mont d'Or Sous L'Escalier Petite Arvine du Valais 2021\", 0.0)]"
      ]
     },
     "execution_count": 133,
     "metadata": {},
     "output_type": "execute_result"
    }
   ],
   "source": [
    "query12 = '''SELECT vintages.name, vintages.ratings_average\n",
    "             FROM vintages\n",
    "             WHERE vintages.wine_id IN {}'''.format(tuple(x[2] for x in wine_and_average))\n",
    "cursor.execute(query12)\n",
    "vintage_results = cursor.fetchall()\n",
    "vintage_results"
   ]
  },
  {
   "cell_type": "code",
   "execution_count": null,
   "metadata": {},
   "outputs": [],
   "source": []
  },
  {
   "cell_type": "code",
   "execution_count": null,
   "metadata": {},
   "outputs": [
    {
     "data": {
      "text/plain": [
       "[('Argentine',),\n",
       " ('Australie',),\n",
       " ('Chili',),\n",
       " ('Espagne',),\n",
       " ('Grèce',),\n",
       " ('Croatie',),\n",
       " ('Hongrie',),\n",
       " ('Israël',),\n",
       " ('Moldavie',),\n",
       " ('Roumanie',),\n",
       " ('États-Unis',),\n",
       " ('Afrique du Sud',)]"
      ]
     },
     "execution_count": 27,
     "metadata": {},
     "output_type": "execute_result"
    }
   ],
   "source": [
    "query2 = '''\n",
    "    SELECT name\n",
    "    FROM countries\n",
    "    WHERE code = ? OR code = ? OR code = ? OR code = ? OR code = ? OR code = ? OR code = ? OR code = ? OR code = ? OR code = ? OR code = ? OR code = ?;\n",
    "'''\n",
    "\n",
    "cursor.execute(query2, top_country_code_forGrapes)\n",
    "results = cursor.fetchall()\n",
    "results"
   ]
  },
  {
   "cell_type": "code",
   "execution_count": null,
   "metadata": {},
   "outputs": [
    {
     "data": {
      "text/plain": [
       "[('Cabernet Sauvignon',)]"
      ]
     },
     "execution_count": 5,
     "metadata": {},
     "output_type": "execute_result"
    }
   ],
   "source": [
    "cursor.execute(f'''SELECT name FROM grapes WHERE id = 2''')\n",
    "cursor.fetchall()"
   ]
  },
  {
   "cell_type": "markdown",
   "metadata": {},
   "source": [
    "wines"
   ]
  },
  {
   "cell_type": "code",
   "execution_count": null,
   "metadata": {},
   "outputs": [
    {
     "name": "stdout",
     "output_type": "stream",
     "text": [
      "Asili Barbaresco Vecchie Viti\n",
      "Avizoise Blanc de Blancs Extra Brut Champagne Grand Cru 'Avize'\n",
      "Barolo Paiagallo\n",
      "Bassolino di Sopra Brunello di Montalcino\n",
      "Brunello di Montalcino\n",
      "Brunello di Montalcino Riserva\n",
      "Camí Pesseroles\n",
      "Chambolle-Musigny Les Cabottes\n",
      "Chambolle-Musigny Premier Cru 'Les Feusselottes'\n",
      "Chapelle-Chambertin Grand Cru\n",
      "Clos de Bèze Grand Cru\n",
      "Clos de Vougeot\n",
      "Clos de la Coulée de Serrant\n",
      "Crichet Pajè Barbaresco\n",
      "Gallina Barbaresco\n",
      "Helichrysum Brunello di Montalcino\n",
      "Il San Lorenzo Bianco\n",
      "Le Bourg Saumur Champigny\n",
      "Les Manyes\n",
      "Les Poyeux Saumur Champigny\n",
      "Magma\n",
      "Montefico Barbaresco Vecchie Viti\n",
      "Montepulciano d'Abruzzo\n",
      "Morey-Saint-Denis Tres Girard\n",
      "Nuits-Saint-Georges 1er Cru 'Clos des Corvées'\n",
      "Pajè Barbaresco\n",
      "Ribolla Gialla\n",
      "Rujno Rosso\n",
      "Trebbiano d'Abruzzo\n",
      "Valmezzane Amarone della Valpolicella\n",
      "Vosne-Romanée 1er Cru 'Les Suchots'\n",
      "Vénus Blanc de Blancs Brut Nature Champagne Grand Cru 'Avize'\n",
      "32\n"
     ]
    }
   ],
   "source": [
    "query3 = \"SELECT name FROM wines WHERE is_natural = 1 GROUP BY name\"\n",
    "cursor.execute(query3)\n",
    "results = cursor.fetchall()\n",
    "x=0\n",
    "for row in results:\n",
    "    x+=1\n",
    "    print(row[0])\n",
    "print(x)\n"
   ]
  },
  {
   "cell_type": "code",
   "execution_count": null,
   "metadata": {},
   "outputs": [
    {
     "data": {
      "text/plain": [
       "[('Amarone della Valpolicella Classico Riserva',),\n",
       " ('Cabernet Sauvignon',),\n",
       " ('Mágico',),\n",
       " ('Fratini Bolgheri Superiore',),\n",
       " ('Cristal Rosé Vinothèque',),\n",
       " ('Batard-Montrachet Grand Cru',)]"
      ]
     },
     "execution_count": 75,
     "metadata": {},
     "output_type": "execute_result"
    }
   ],
   "source": [
    "cursor.execute(\"SELECT name FROM wines WHERE ratings_average = (SELECT MAX(ratings_average) FROM wines)\")\n",
    "res = cursor.fetchall()\n",
    "res"
   ]
  },
  {
   "cell_type": "code",
   "execution_count": null,
   "metadata": {},
   "outputs": [
    {
     "data": {
      "text/plain": [
       "[(\"Château Doisy-Daëne L'Extravagant de Doisy-Daëne Sauternes 2001\",),\n",
       " ('Biondi-Santi Brunello di Montalcino Riserva 1955',)]"
      ]
     },
     "execution_count": 77,
     "metadata": {},
     "output_type": "execute_result"
    }
   ],
   "source": [
    "cursor.execute(\"SELECT name FROM vintages WHERE ratings_average = (SELECT MAX(ratings_average) FROM vintages)\")\n",
    "res = cursor.fetchall()\n",
    "res"
   ]
  },
  {
   "cell_type": "markdown",
   "metadata": {},
   "source": [
    "vintage wines"
   ]
  },
  {
   "cell_type": "code",
   "execution_count": null,
   "metadata": {},
   "outputs": [
    {
     "name": "stdout",
     "output_type": "stream",
     "text": [
      "['Tinto', 'Guerriero della Terra', 'Reserva Ribera del Duero']\n"
     ]
    }
   ],
   "source": [
    "query5 = f''' \n",
    "SELECT wines.name \n",
    "FROM \n",
    "wines \n",
    "JOIN vintages ON wines.id = vintages.wine_id \n",
    "JOIN vintage_toplists_rankings ON vintage_toplists_rankings.vintage_id = vintages.id\n",
    "WHERE vintage_toplists_rankings.previous_rank > 10 AND vintage_toplists_rankings.rank=1'''\n",
    "d =[]\n",
    "for x in cursor.execute(query5):\n",
    "    d.append(x[0])\n",
    "print(d)\n"
   ]
  },
  {
   "cell_type": "code",
   "execution_count": null,
   "metadata": {},
   "outputs": [
    {
     "data": {
      "text/plain": [
       "[]"
      ]
     },
     "execution_count": 83,
     "metadata": {},
     "output_type": "execute_result"
    }
   ],
   "source": [
    "c = f'''SELECT wineries.name FROM wineries\n",
    "        JOIN wines ON wineries.id = wines.winery_id\n",
    "        WHERE wines.winery_id IN (SELECT wines.winery_id FROM wines WHERE name IN ({','.join([f\"'{value}'\" for value in d])}))'''\n",
    "\n",
    "cursor.execute(c)\n",
    "res = cursor.fetchall()\n",
    "res"
   ]
  }
 ],
 "metadata": {
  "kernelspec": {
   "display_name": ".venv",
   "language": "python",
   "name": "python3"
  },
  "language_info": {
   "codemirror_mode": {
    "name": "ipython",
    "version": 3
   },
   "file_extension": ".py",
   "mimetype": "text/x-python",
   "name": "python",
   "nbconvert_exporter": "python",
   "pygments_lexer": "ipython3",
   "version": "3.7.3"
  },
  "orig_nbformat": 4
 },
 "nbformat": 4,
 "nbformat_minor": 2
}
